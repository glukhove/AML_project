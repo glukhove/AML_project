{
 "cells": [
  {
   "cell_type": "code",
   "execution_count": 1,
   "metadata": {},
   "outputs": [],
   "source": [
    "import pandas as pd\n",
    "import numpy as np\n",
    "from biopandas.pdb import PandasPdb\n",
    "import os\n",
    "import torch\n",
    "import dgl\n",
    "import dgl.function as fn\n",
    "import networkx as nx\n",
    "from tqdm import tqdm\n",
    "from sklearn.preprocessing import StandardScaler\n",
    "import warnings\n",
    "warnings.filterwarnings(\"ignore\")"
   ]
  },
  {
   "cell_type": "markdown",
   "metadata": {},
   "source": [
    "#### Read main files, exclude pication for now. We will use .psf files, so to make it simple we will substitute all pbd to psf."
   ]
  },
  {
   "cell_type": "code",
   "execution_count": 2,
   "metadata": {},
   "outputs": [],
   "source": [
    "data = pd.read_csv('data_sample/detailed_interaction.csv', \n",
    "                   usecols=['bond', 'distance', 'lig_atom_id', 'rec_atom_id', 'resnr', 'resnr_l', 'restype', 'restype_l', 'lig_coords', 'rec_coords', 'pdb'])\n",
    "\n",
    "data.columns = ['bond', 'distance', 'lig_atom_id', 'lig_coords', 'rec_atom_id', 'rec_coords', 'resnr_bond', 'resnr_base', 'restype_bond', 'restype_base',  'pdb']\n",
    "\n",
    "\n",
    "\n",
    "data.pdb = data.pdb.str.replace('pdb', 'psf')\n",
    "files = data.pdb.unique()\n",
    "\n",
    "data = data[(data.bond != 'pication')]\n",
    "\n",
    "label_ = pd.read_csv('data_sample/affinity-toy.csv', usecols=['binding'])\n",
    "label_ = label_.binding.apply(lambda row: 0 if row == 'Negative' else 1)\n",
    "\n",
    "one_hot = False"
   ]
  },
  {
   "cell_type": "markdown",
   "metadata": {},
   "source": [
    "#### Several service functions."
   ]
  },
  {
   "cell_type": "code",
   "execution_count": 3,
   "metadata": {},
   "outputs": [],
   "source": [
    "def add_mol_bonds(df_part, bond_type, psf_data, bonds_):\n",
    "    \"\"\"\n",
    "    This functiuon reads a part of PSF file where it looks for information about connections inside the molecule of peptid and mhc.\n",
    "    \n",
    "    1. Get relevamt atom ids;\n",
    "    2. Get only that part of PSF where we can find bonds;\n",
    "    3. Make one vector with all bonds. Every pair of values (0-1: even-odd number) represent;\n",
    "    4. Preprocessing of psf file;\n",
    "    5. Save the vector with initial atom ids;\n",
    "    6. Go through all initials:\n",
    "        6.1. Check if our initial atom is in the bond vector;\n",
    "        6.2. Based on the position take the neighbout from the left or from the right;\n",
    "        6.3. Find distance between atoms;\n",
    "    7. Make new df for appending.\n",
    "    \n",
    "    Input:\n",
    "    1. DataFrame wot bonds;\n",
    "    2. Type of molecule we a looking for: 'peptid' or 'mhc';\n",
    "    3. PSF data file where we will find information about new bonds;\n",
    "    \n",
    "    Output:\n",
    "    1. New df for appending\n",
    "    \"\"\"\n",
    "    \n",
    "    \n",
    "    atoms = df_part.base.values \n",
    "    \n",
    "    df_part.base_coords = df_part.base_coords.str.strip('()')\n",
    "    df_part[['x', 'y', 'z']] = df_part['base_coords'].str.split(', ', expand=True).astype(float) \n",
    "    df_part = df_part.drop(['base_coords'], axis=1)\n",
    "\n",
    "    psf = psf_data.loc[atoms]\n",
    "\n",
    "    initials = psf.iloc[:,0].values\n",
    "    \n",
    "    bonds_left = bonds_[::2]\n",
    "    bonds_two = np.vstack([bonds_left, bonds_[1::2]]).T\n",
    "    bonds_two = bonds_two[np.isin(bonds_two[:,0], initials)]\n",
    "\n",
    "    bonds = pd.DataFrame(bonds_two)\n",
    "    \n",
    "    initial_bonds = bonds.merge(psf.loc[:,0].reset_index(), on=0).merge(psf.loc[:,0].reset_index(),left_on=1, right_on=0).drop(['0_x', 1, '0_y'], axis=1)\n",
    "\n",
    "    df_new = initial_bonds.merge(df_part, left_on='index_x', right_on='base').merge(df_part, left_on='index_y', right_on='base').drop(['index_x', 'index_y'], axis=1)\n",
    "\n",
    "\n",
    "    df_new = initial_bonds.merge(df_part, left_on='index_x', right_on='base').merge(df_part, left_on='index_y', right_on='base').drop(['index_x', 'index_y'], axis=1)\n",
    "    df_new['distance'] = ((df_new.x_x - df_new.x_y)**2 + (df_new.y_x - df_new.y_y)**2 + (df_new.z_x - df_new.z_y)**2).pow(1./2)\n",
    "    df_new['bond_type'] = bond_type\n",
    "\n",
    "    df_new.drop(['x_x', 'y_x', 'z_x', 'x_y', 'y_y', 'z_y'], axis=1, inplace=True)\n",
    "\n",
    "    df_new.columns = ['base', 'resnr_base', 'restype_base', 'bond', 'resnr_bond', 'restype_bond', 'distance', 'bond_type']\n",
    "\n",
    "\n",
    "    df_new = df_new.drop_duplicates(subset=['resnr_bond', 'resnr_base'], keep='first').reset_index()\n",
    "\n",
    "    df_new = df_new[df_new['resnr_bond'] != df_new['resnr_base']]\n",
    "\n",
    "    df_copy = df_new.copy()\n",
    "    df_copy.base = df_new.bond\n",
    "    df_copy.bond = df_new.base\n",
    "    df_copy.resnr_base = df_new.resnr_bond\n",
    "    df_copy.resnr_bond = df_new.resnr_base\n",
    "    df_copy.restype_base = df_new.restype_bond\n",
    "    df_copy.restype_bond = df_new.base\n",
    "\n",
    "    df_new = df_new.append(df_copy)\n",
    "\n",
    "    df_new = df_new.drop(['restype_bond', 'index'], axis=1)\n",
    "        \n",
    "    \n",
    "    return df_new"
   ]
  },
  {
   "cell_type": "code",
   "execution_count": 4,
   "metadata": {},
   "outputs": [],
   "source": [
    "def split_lig_rec(data):\n",
    "    \"\"\"\n",
    "    This function parse such types of bonds as saltbridge and pistack\n",
    "    \n",
    "    Input:\n",
    "    1. A part of df with all bonds.\n",
    "    \n",
    "    Output:\n",
    "    1. New df where all saltbridge and pistack bonds are rewriten pair by pair.\n",
    "    \"\"\"\n",
    "    ind = list()\n",
    "    for i, (l, r)  in enumerate(zip(data.lig_atom_id, data.rec_atom_id)):\n",
    "        \n",
    "        lig_new = []\n",
    "        rec_new = []\n",
    "        lig_arr = np.array(l.strip('[]').split(','))\n",
    "        rec_arr = np.array(r.strip('[]').split(','))\n",
    "    \n",
    "        if lig_arr.size+rec_arr.size > 2:\n",
    "            for lig in range(lig_arr.size):\n",
    "                for rec in range(rec_arr.size):\n",
    "                    data = data.append({'bond':data.bond.iloc[i], 'distance':data.distance.iloc[i], \n",
    "                                                'lig_atom_id':lig_arr[lig], 'rec_atom_id':rec_arr[rec],\n",
    "                                                'lig_coords':data.lig_coords.iloc[i],\n",
    "                                                'rec_coords':data.rec_coords.iloc[i],\n",
    "                                                'resnr_bond':data.resnr_bond.iloc[i],\n",
    "                                                'resnr_base':data.resnr_base.iloc[i],\n",
    "                                                'restype_bond': data.restype_bond.iloc[i],\n",
    "                                                'restype_base': data.restype_base.iloc[i],\n",
    "                                                'pdb':data.pdb.iloc[i]} , ignore_index=True)\n",
    "            ind.append(i)\n",
    "                    \n",
    "    data = data.drop(np.array(ind))\n",
    "    data = data.reset_index(drop=True)\n",
    "        \n",
    "    return data"
   ]
  },
  {
   "cell_type": "markdown",
   "metadata": {},
   "source": [
    "#### The main part"
   ]
  },
  {
   "cell_type": "code",
   "execution_count": 5,
   "metadata": {},
   "outputs": [
    {
     "name": "stderr",
     "output_type": "stream",
     "text": [
      "100%|██████████| 995/995 [05:09<00:00,  2.80it/s]\n"
     ]
    }
   ],
   "source": [
    "all_A = []\n",
    "label = []\n",
    "# fix the order of bonds\n",
    "bond_names = ['bond_saltbridge', 'bond_pistack', 'bond_hydroph_interaction', 'bond_covalent', 'bond_hbond']\n",
    "acids = np.array(['ALA', 'ARG', 'ASN', 'ASP', 'CYS', 'GLN', 'GLU', 'GLY', 'HSD','ILE', 'LEU', 'LYS', 'MET', 'PHE', 'PRO', 'SER', 'THR', 'TRP','TYR', 'VAL'])\n",
    "file = ['000530._nmin.psf']\n",
    "amino_prop = pd.read_csv(\"amino_acid_prop.csv\")\n",
    "amino_prop.rename(columns={'Unnamed: 0':'restype_base'}, inplace=True)\n",
    "sc = StandardScaler()\n",
    "amino_prop[amino_prop.drop('restype_base', axis=1).columns] = sc.fit_transform(amino_prop.drop('restype_base', axis=1))\n",
    "\n",
    "\n",
    "for file in tqdm(files):\n",
    "    \n",
    "        #set label\n",
    "    index = int(file.replace('_nmin.psf', ''))\n",
    "    label.append(label_[index])\n",
    "\n",
    "    #make a subset of the whole df\n",
    "    df_ligand = data[data.pdb == file].copy()\n",
    "    #parse saltbridge and pistack\n",
    "    df_ligand = split_lig_rec(df_ligand)\n",
    "\n",
    "    #read PSF file for this particular model\n",
    "    skiprows=5+pd.read_csv(\"data_sample/models/\" + file, delimiter=r\"\\s+\", skiprows=2, nrows=1, header=None)[0].item()\n",
    "    psf_data = pd.read_csv(\"data_sample/models/\" + file, delimiter=r\"\\s+\", skiprows=skiprows, header=None)\n",
    "    \n",
    "    #find the part with information about bonds\n",
    "    start, end = np.where(psf_data.iloc[:, 1] == '!NBOND:')[0][0] + 1, np.where(psf_data.iloc[:, 1] == '!NTHETA:')[0][0] - np.where(psf_data.iloc[:, 1] == '!NBOND:')[0][0] - 1\n",
    "    bonds_ = psf_data.iloc[start: start+end, :].drop(8, axis=1).fillna(-1).values.flatten()\n",
    "    bonds_ = bonds_[bonds_!=-1].astype(int) #remove last several NaNs\n",
    "\n",
    "\n",
    "    # remove H, chose only with atoms\n",
    "    psf_data = psf_data[:start-1] #untill the start of the second part\n",
    "    psf_data.iloc[:,4] = psf_data.iloc[:,4].str[0]\n",
    "    psf_data = psf_data[psf_data.iloc[:,4] != 'H']\n",
    "    psf_data = psf_data.reset_index(drop=True)\n",
    "    psf_data.index += 1 # to deal with other numeration in detailed interaction\n",
    "    \n",
    "    \n",
    "    #clean ids from brackets\n",
    "    df_ligand.lig_atom_id = df_ligand.lig_atom_id.str.strip('[]').astype(int)\n",
    "    df_ligand.rec_atom_id = df_ligand.rec_atom_id.str.strip('[]').astype(int)\n",
    "    #rename columns for simplicity\n",
    "    df_ligand.columns = ['bond_type', 'distance', 'base', 'base_coords', 'bond', 'bond_coords', 'resnr_bond', 'resnr_base', 'restype_bond', 'restype_base',  'file']\n",
    "    \n",
    "    #to make sure not to use 1 from mhs as peptid\n",
    "    max_lig_amino = df_ligand.resnr_base.max()\n",
    "    df_ligand.bond = df_ligand.bond + max_lig_amino\n",
    "\n",
    "    #preparation for combining mhc-lehang connection\n",
    "    df_mhc = df_ligand.copy()\n",
    "    df_mhc.base_coords = df_ligand.bond_coords\n",
    "    df_mhc.bond_coords = df_ligand.base_coords\n",
    "    df_mhc.base = df_ligand.bond\n",
    "    df_mhc.bond = df_ligand.base\n",
    "    df_mhc.resnr_bond = df_ligand.resnr_base\n",
    "    df_mhc.resnr_base = df_ligand.resnr_bond\n",
    "    df_mhc.restype_bond = df_ligand.restype_base\n",
    "    df_mhc.restype_base = df_ligand.restype_bond\n",
    "\n",
    "\n",
    "\n",
    "\n",
    "\n",
    "    ###########\n",
    "    ppdb = PandasPdb()\n",
    "    pdb = ppdb.read_pdb('data_sample/models/' + file.split('.')[0] + '.pdb').df['ATOM']\n",
    "    pdb = pdb[pdb.element_symbol != 'H'].reset_index(drop=True)\n",
    "    pdb = pdb[pdb.chain_id == 'B']\n",
    "\n",
    "\n",
    "    df_all_legands = pd.DataFrame(columns=['base', 'base_coords', 'resnr_base', 'restype_base'])\n",
    "    df_all_legands.base = pdb.index + 1 #because in detailed interaction indexes are greater\n",
    "    df_all_legands.base_coords = list(zip(pdb.x_coord, pdb.y_coord, pdb.z_coord))\n",
    "    df_all_legands.base_coords = df_all_legands.base_coords.astype(str)\n",
    "\n",
    "    df_all_legands.resnr_base = pdb.residue_number.values\n",
    "    df_all_legands.restype_base = pdb.residue_name.values\n",
    "\n",
    "    df = df_ligand.append(df_mhc)\n",
    "\n",
    "    # append legand-legand and mhc-mhc information\n",
    "    df = df.append(add_mol_bonds(df_all_legands, 'covalent', psf_data, bonds_))\n",
    "\n",
    "    df.distance = df.distance.astype(float)\n",
    "\n",
    "    df_amino = df.drop_duplicates(subset=['bond_type', 'resnr_bond', 'resnr_base'], keep='first').reset_index().drop(['index', 'base', 'bond', 'file', 'base_coords', 'restype_bond'], axis=1)\n",
    "\n",
    "    df_amino.distance = df.groupby(['bond_type', 'resnr_bond', 'resnr_base']).distance.mean().values\n",
    "\n",
    "    del df\n",
    "    df = pd.merge(df_amino, amino_prop, on='restype_base' , how='inner')\n",
    "\n",
    "\n",
    "    # code atom ids for usage in graphs\n",
    "    base = df.resnr_base.astype('category').cat.codes.values\n",
    "#     base = base - base.min() #get it to start from 0\n",
    "    bond = df.resnr_bond.astype('category').cat.codes.values\n",
    "\n",
    "    df.index = base\n",
    "    df = df.sort_index()\n",
    "\n",
    "    # edge features: type of bond (one-hot), distance\n",
    "    edge_features = pd.DataFrame(0, index=df.index, columns=bond_names)\n",
    "    bond_type = pd.get_dummies(df.bond_type, prefix='bond')\n",
    "    edge_features[bond_type.columns] = bond_type\n",
    "    edge_features.index = df.index\n",
    "    distance = df.distance\n",
    "    edge_features['distance'] = (distance - distance.mean())/distance.std()\n",
    "\n",
    "    #     #test on the number of features\n",
    "    #     if edge_features.shape[1] != 7:\n",
    "    #         print('Error edge')\n",
    "    #         break\n",
    "\n",
    "        #the edge part is over, now we need to calculate gfeatures for nodes. first, drop duplicates\n",
    "    df_unique = df.reset_index().drop_duplicates(subset='index', keep='first').drop('index', axis=1)\n",
    "    df_unique.drop(['bond_type', 'bond_coords', 'distance', 'resnr_bond', 'resnr_base'], axis=1, inplace=True)\n",
    "    \n",
    "    if one_hot: \n",
    "        empty_acids = pd.DataFrame(0, index=df_unique.index, columns=acids)\n",
    "        dummy = pd.get_dummies(df_unique.restype_base)\n",
    "        empty_acids[dummy.columns] = dummy\n",
    "        node_features = df_unique.join(empty_acids).drop('restype_base', axis=1)\n",
    "    else:\n",
    "        node_features = df_unique.drop('restype_base', axis=1)\n",
    "\n",
    "#     if sum(bond < 0) + sum(base < 0):\n",
    "#         print(\"ERROR with category encoding\")\n",
    "#     if bond.max() != base.max():\n",
    "#         print(\"ERROR with max value of base/bond\")\n",
    "\n",
    "    #make a graph\n",
    "    num_nodes = base.max()\n",
    "    G = dgl.DGLGraph()\n",
    "    G.add_nodes(int(num_nodes+1))\n",
    "    G.add_edges(base, bond)\n",
    "    G.ndata['h'] = torch.tensor(node_features.values)\n",
    "    G.edata['h'] = torch.tensor(edge_features.values)\n",
    "    all_A.append(G)\n",
    "\n",
    "# #     if line > 0:\n",
    "# #         break"
   ]
  },
  {
   "cell_type": "markdown",
   "metadata": {},
   "source": [
    "#### Bellow there is one of graph representation: kamada_kawai_layout"
   ]
  },
  {
   "cell_type": "code",
   "execution_count": 8,
   "metadata": {},
   "outputs": [
    {
     "data": {
      "image/png": "[encoded data removed]",
      "text/plain": [
       "<Figure size 432x288 with 1 Axes>"
      ]
     },
     "metadata": {},
     "output_type": "display_data"
    }
   ],
   "source": [
    "import networkx as nx\n",
    "# Since the actual graph is undirected, we convert it for visualization\n",
    "# purpose.\n",
    "nx_G = G.to_networkx().to_undirected()\n",
    "# Kamada-Kawaii layout usually looks pretty for arbitrary graphs\n",
    "pos = nx.kamada_kawai_layout(nx_G)\n",
    "nx.draw(nx_G, pos, with_labels=True, node_size=node_features.mass*200, )\n",
    "# nx.draw_networkx_nodes(nx_G, pos, node_size=node_features.mass.values)\n",
    "# nx.draw_networkx(nx_G, pos, node_size=node_features.mass.values*200)"
   ]
  },
  {
   "cell_type": "code",
   "execution_count": 15,
   "metadata": {},
   "outputs": [],
   "source": [
    "G = all_A[-400]"
   ]
  },
  {
   "cell_type": "code",
   "execution_count": 16,
   "metadata": {},
   "outputs": [
    {
     "data": {
      "image/png": "[encoded data removed]",
      "text/plain": [
       "<Figure size 432x288 with 1 Axes>"
      ]
     },
     "metadata": {},
     "output_type": "display_data"
    }
   ],
   "source": [
    "import networkx as nx\n",
    "# Since the actual graph is undirected, we convert it for visualization\n",
    "# purpose.\n",
    "nx_G = G.to_networkx().to_undirected()\n",
    "# Kamada-Kawaii layout usually looks pretty for arbitrary graphs\n",
    "pos = nx.kamada_kawai_layout(nx_G)\n",
    "nx.draw(nx_G, pos, with_labels=True, node_size=node_features.mass.values*200)\n",
    "# nx.draw_networkx_nodes(nx_G, pos, node_size=node_features.mass.values)\n",
    "# nx.draw_networkx(nx_G, pos, node_size=node_features.mass.values*200)"
   ]
  },
  {
   "cell_type": "code",
   "execution_count": 7,
   "metadata": {},
   "outputs": [],
   "source": [
    "import pickle\n",
    "\n",
    "with open('graphs_amino_small.pickle', 'wb') as gr:\n",
    "    pickle.dump(all_A, gr, protocol=pickle.HIGHEST_PROTOCOL)\n",
    "    \n",
    "with open('lables_amino_small.pickle', 'wb') as la:\n",
    "    pickle.dump(label, la, protocol=pickle.HIGHEST_PROTOCOL)"
   ]
  },
  {
   "cell_type": "code",
   "execution_count": 11,
   "metadata": {},
   "outputs": [
    {
     "data": {
      "text/plain": [
       "DGLGraph(num_nodes=24, num_edges=62,\n",
       "         ndata_schemes={'h': Scheme(shape=(11,), dtype=torch.float64)}\n",
       "         edata_schemes={'h': Scheme(shape=(6,), dtype=torch.float64)})"
      ]
     },
     "execution_count": 11,
     "metadata": {},
     "output_type": "execute_result"
    }
   ],
   "source": [
    "G"
   ]
  }
 ],
 "metadata": {
  "kernelspec": {
   "display_name": "Python 3",
   "language": "python",
   "name": "python3"
  },
  "language_info": {
   "codemirror_mode": {
    "name": "ipython",
    "version": 3
   },
   "file_extension": ".py",
   "mimetype": "text/x-python",
   "name": "python",
   "nbconvert_exporter": "python",
   "pygments_lexer": "ipython3",
   "version": "3.6.8"
  }
 },
 "nbformat": 4,
 "nbformat_minor": 2
}
